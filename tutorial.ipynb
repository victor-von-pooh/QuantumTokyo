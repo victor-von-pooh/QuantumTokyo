{
 "cells": [
  {
   "cell_type": "markdown",
   "id": "a2e39330-e9f5-4417-bc17-c42931a12aff",
   "metadata": {},
   "source": [
    "# Qiskitを使って量子プログラミングに挑戦！\n",
    "\n",
    "こんにちは！Qiskit Advocateの秋田です。2023年ももう半分終わっちゃいますね〜。私事ですが、今年の上半期は就活やら研究やらで生産性のあることが全然できていません！そもそも生産性のあることって何やねん。\n",
    "\n",
    "さて、本日のイベントの内容ですが、\n",
    "\n",
    "> PythonベースのOpen Source の量子プログラミングソフトウェア開発キットであるQiskit を使って、量子プログラミングを学びます。量子コンピューター初心者の方向けの量子プログラミング入門編です。\n",
    "> 今回は、基本の量子ゲートの実装からクラウド型量子コンピューターでの実験まで行います。\n",
    "\n",
    "とあるように、\n",
    "\n",
    "> 「量子プログラミング、なにそれ美味しいの？」\n",
    "\n",
    "という方向けにPythonでコーディングを学ぼう！というものになっております。\n",
    "\n",
    "前提として、簡単な線形代数の知識、そしてPythonの基本文法が身についていることを想定しています。また、過去のイベントの動画も参考までに紹介します。\n",
    "\n",
    "\"[単一システムの「古典情報」〜 Qiskitテキストブック量子情報の基礎編](https://www.youtube.com/watch?v=_3UGr_2bgqo)\" (発表者 : 外林さん)\n",
    "\n",
    "\"[Qiskitテキストブック「単一システム：量子情報」](https://www.youtube.com/watch?v=MdqMybfGeys)\" (発表者 : 大野さん)"
   ]
  },
  {
   "cell_type": "markdown",
   "id": "958f43e4-39cd-4632-b9dc-55faf3e0af06",
   "metadata": {
    "tags": []
   },
   "source": [
    "# 今回使うライブラリのインポート\n",
    "\n",
    "Qiskitは複雑なので()、どのモジュールを使うかはしっかり考えなければいけません。また、Qiskitはローカルのコンピュータでもプログラムできますが、Quantum Labは環境が常に最新の状態になっているのでこちらを推奨します。"
   ]
  },
  {
   "cell_type": "code",
   "execution_count": null,
   "id": "d9fd32af-f519-4a21-85ef-60a434a762f9",
   "metadata": {
    "tags": []
   },
   "outputs": [],
   "source": [
    "import qiskit\n",
    "from qiskit import Aer, QuantumCircuit, QuantumRegister, ClassicalRegister, transpile\n",
    "from qiskit.visualization import plot_histogram\n",
    "from qiskit_ibm_provider import IBMProvider\n",
    "\n",
    "# Qiskitのバージョン確認\n",
    "qiskit.__qiskit_version__"
   ]
  },
  {
   "cell_type": "markdown",
   "id": "7eb1b872-019f-4e15-b136-32badf91512c",
   "metadata": {},
   "source": [
    "# 量子回路と量子ゲート\n",
    "\n",
    "量子コンピュータ(ゲート方式)で問題を解くときに欠かせないのが、量子回路の設計です。"
   ]
  },
  {
   "cell_type": "markdown",
   "id": "77c08824-e174-47ea-aa6e-f6b6323df88a",
   "metadata": {},
   "source": [
    "## 量子回路\n",
    "\n",
    "早速量子回路を作るインスタンスを用意しましょう！"
   ]
  },
  {
   "cell_type": "code",
   "execution_count": null,
   "id": "e6493f62-31c1-48e4-963d-ca53f2beda4a",
   "metadata": {
    "tags": []
   },
   "outputs": [],
   "source": [
    "qc = QuantumCircuit(2)"
   ]
  },
  {
   "cell_type": "markdown",
   "id": "dad9e316-5319-4990-a9fd-d975ed6fd0bc",
   "metadata": {},
   "source": [
    "```python\n",
    "QuantumCircuit(2)\n",
    "```\n",
    "この引数には、量子回路を作る量子ビットの数を入れます。今回の場合 $2$ なので $2$ 量子ビットの回路を作るよ！ということになります。\n",
    "\n",
    "では、実際に回路が用意されているのかを見てみましょう！\n",
    "\n",
    "```python\n",
    "qc.draw(\"mpl\")\n",
    "```\n",
    "\n",
    "これはmatplotlibの形式で回路を図示してくれます。"
   ]
  },
  {
   "cell_type": "code",
   "execution_count": null,
   "id": "29f5319d-b5e7-4f0b-996f-b82e5b194ab5",
   "metadata": {
    "tags": []
   },
   "outputs": [],
   "source": [
    "qc.draw(\"mpl\")"
   ]
  },
  {
   "cell_type": "markdown",
   "id": "5c218ad6-8a91-44d1-a0c0-766310ed1d0d",
   "metadata": {},
   "source": [
    "量子回路の表示のスタイルは他に\n",
    "\n",
    "- latex\n",
    "- text\n",
    "\n",
    "があり、さらに他の引数を使うことで画像のデザインも出来ちゃいます！(時間の都合上、今回は紹介までに、参考は[こちら](https://qiskit.org/documentation/locale/ja_JP/tutorials/circuits_advanced/03_advanced_circuit_visualization.html))"
   ]
  },
  {
   "cell_type": "markdown",
   "id": "33fc48b3-97a8-4d1b-9430-4f755106b062",
   "metadata": {},
   "source": [
    "話が前後してしまいますが、一旦量子回路作成の方に戻りましょう。というのも、量子回路のインスタンスの作り方は1通りだけでなく、いくつかあるため人によりその書き方が異なります。次は、レジスタというものを先に用意しましょう！"
   ]
  },
  {
   "cell_type": "code",
   "execution_count": null,
   "id": "3aa603cd-2c49-42f3-90c1-6b8765785f44",
   "metadata": {
    "tags": []
   },
   "outputs": [],
   "source": [
    "qr = QuantumRegister(2)\n",
    "qc = QuantumCircuit(qr)\n",
    "\n",
    "qc.draw(\"mpl\")"
   ]
  },
  {
   "cell_type": "markdown",
   "id": "eee7d28a-b356-4336-901c-b9c14d516d95",
   "metadata": {},
   "source": [
    "レジスタを用意すると、より複雑な問題(例えばエラー訂正など)を扱う際に便利だったりします。今回はそれほど高度なことをするつもりは無いので安心してください！"
   ]
  },
  {
   "cell_type": "markdown",
   "id": "285d7d78-6a15-4a40-bd97-1914357a87dc",
   "metadata": {},
   "source": [
    "## 量子ゲート\n",
    "\n",
    "量子回路を構成するのが量子ゲートです。今回は主にパウリゲート($X$, $Y$, $Z$)とアダマールゲート($H$)、そして $2$ 量子ビットゲートである $CNOT$ ゲートをご紹介します。まずは各ゲートについて、その特徴を理解しましょう！"
   ]
  },
  {
   "cell_type": "markdown",
   "id": "0e51da83-080b-437a-916b-f183a7d926af",
   "metadata": {},
   "source": [
    "### $X$ ゲート\n",
    "\n",
    "$X$ ゲートは\n",
    "\n",
    "> $X = \\begin{pmatrix} 0 & 1 \\\\ 1 & 0 \\\\ \\end{pmatrix}$\n",
    "\n",
    "で定義され、次の変換を行います。\n",
    "\n",
    "> $\\begin{matrix} |0\\rangle \\rightarrow |1\\rangle \\\\ |1\\rangle \\rightarrow |0\\rangle \\end{matrix}$"
   ]
  },
  {
   "cell_type": "markdown",
   "id": "c273298e-d6ea-4595-ad6f-97daa2889548",
   "metadata": {},
   "source": [
    "### $Y$ ゲート\n",
    "\n",
    "$Y$ ゲートは\n",
    "\n",
    "> $Y = \\begin{pmatrix} 0 & -i \\\\ i & 0 \\\\ \\end{pmatrix}$\n",
    "\n",
    "で定義され、次の変換を行います。\n",
    "\n",
    "> $\\begin{matrix} |0\\rangle \\rightarrow i|1\\rangle \\\\ |1\\rangle \\rightarrow -i|0\\rangle \\end{matrix}$"
   ]
  },
  {
   "cell_type": "markdown",
   "id": "67f0b848-f2d5-47d6-8ef5-b5a147679bcc",
   "metadata": {},
   "source": [
    "### $Z$ ゲート\n",
    "\n",
    "$Z$ ゲートは\n",
    "\n",
    "> $Z = \\begin{pmatrix} 1 & 0 \\\\ 0 & -1 \\\\ \\end{pmatrix}$\n",
    "\n",
    "で定義され、次の変換を行います。\n",
    "\n",
    "> $\\begin{matrix} |0\\rangle \\rightarrow |0\\rangle \\\\ |1\\rangle \\rightarrow -|1\\rangle \\end{matrix}$"
   ]
  },
  {
   "cell_type": "markdown",
   "id": "23c5bef3-877e-4211-bdf0-cd2e3487fbaf",
   "metadata": {},
   "source": [
    "### $H$ ゲート\n",
    "\n",
    "$H$ ゲートは\n",
    "\n",
    "> $H = \\frac{1}{\\sqrt 2} \\begin{pmatrix} 1 & 1 \\\\ 1 & -1 \\\\ \\end{pmatrix}$\n",
    "\n",
    "で定義され、次の変換を行います。\n",
    "\n",
    "> $\\begin{matrix} |0\\rangle \\rightarrow \\frac{1}{\\sqrt 2}(|0\\rangle + |1\\rangle) \\\\ |1\\rangle \\rightarrow \\frac{1}{\\sqrt 2}(|0\\rangle - |1\\rangle) \\end{matrix}$"
   ]
  },
  {
   "cell_type": "markdown",
   "id": "c724ac75-f434-474f-aafd-d07dd569f609",
   "metadata": {},
   "source": [
    "### $CNOT$ ゲート\n",
    "\n",
    "$CNOT$ ゲートは $2$ 量子ビットのゲートなので\n",
    "\n",
    "> $CNOT = \\begin{pmatrix} 1 & 0 & 0 & 0 \\\\ 0 & 1 & 0 & 0 \\\\ 0 & 0 & 0 & 1 \\\\ 0 & 0 & 1 & 0 \\\\ \\end{pmatrix}$\n",
    "\n",
    "で定義され、次の変換を行います。\n",
    "\n",
    "> $\\begin{matrix} |00\\rangle \\rightarrow |00\\rangle \\\\ |01\\rangle \\rightarrow |01\\rangle \\\\ |10\\rangle \\rightarrow |11\\rangle \\\\ |11\\rangle \\rightarrow |10\\rangle \\\\ \\end{matrix}$\n",
    "\n",
    "制御量子ビット( $1$ 量子ビット目)が $0$ であればターゲット量子ビット( $2$ 量子ビット目)に何もせず、制御量子ビットが $1$ であればターゲット量子ビットを反転させます。"
   ]
  },
  {
   "cell_type": "markdown",
   "id": "67d815ba-be6a-4ff6-b4b1-73772f374144",
   "metadata": {},
   "source": [
    "量子ゲートのかけ方はそこまで複雑では無いため、一気に見てみましょう！"
   ]
  },
  {
   "cell_type": "code",
   "execution_count": null,
   "id": "11844b3c-12da-402c-bcc4-fb2ebea97d72",
   "metadata": {
    "tags": []
   },
   "outputs": [],
   "source": [
    "qc = QuantumCircuit(qr)\n",
    "\n",
    "qc.x(0)\n",
    "# qc.y(0)\n",
    "# qc.z(0)\n",
    "# qc.h(0)\n",
    "# qc.cx(0, 1)\n",
    "\n",
    "qc.draw(\"mpl\")"
   ]
  },
  {
   "cell_type": "markdown",
   "id": "2d8f2387-f3ee-4ff1-9ae2-9148aeee11f3",
   "metadata": {},
   "source": [
    "$X$, $Y$, $Z$, $H$ ゲートに関しては、それぞれ引数は1個でゲートをかける量子ビットのインデックスを入れます。 $CNOT$ ゲートに関しては、 (制御量子ビット, ターゲット量子ビット) の順でインデックスを入れます。"
   ]
  },
  {
   "cell_type": "markdown",
   "id": "d15daaa3-8ed8-4e10-bfe4-9d6cc61df29b",
   "metadata": {},
   "source": [
    "# 量子もつれ(エンタングルメント)\n",
    "\n",
    "量子もつれについてまず軽く触れておきましょう！量子もつれ、またはエンタングルメントとは\n",
    "\n",
    "> 量子もつれ $:=$ テンソル積で表せない状態\n",
    "\n",
    "と定義できます。初心者の方の中では何を言っているのかサッパリわからないということもあると思います。ここではざっくりとしたイメージを掴めるようにしましょう！\n",
    "\n",
    "量子もつれを理解する上で欠かせないのが「重ね合わせ」です。古典コンピュータと量子コンピュータの一番大きな違いとして考えられるこの重ね合わせですが、有名な話として「シュレディンガーの猫」というものがありますね。古典コンピュータでは、 $0$, $1$ の決定的なビットが扱われるのに対し、量子コンピュータでは、 $0$, $1$ の他に、例えば $0$ が出る確率が $30\\%$, $1$ が出る確率が $70\\%$ という確率的なビットが扱えます。このように、 $0$ が出るかもしれないし $1$ が出るかもしれないという2つの状態が「重なり合っている」ものを「重ね合わせ状態」と言います。\n",
    "\n",
    "イメージとしてはコイントスです。\n",
    "\n",
    "![コイントス](https://3.bp.blogspot.com/-3T4f37N8XqE/Wc8f5l8bqWI/AAAAAAABHJE/jFjmJTCU-30s0hGA5XFBoAeEed5aA0buQCLcBGAs/s800/sports_coin_toss.png)\n",
    "\n",
    "コインを投げて掌の上や地面に落としたとき、我々はずっとコインを見られるのでコインが止まった瞬間どちらが上を向いているかがわかります。しかし、コインが空中を舞っている間に両手で覆い隠してしまったらどうでしょう？両手の中のコインは必ず表裏のどちらかを上に向けているのに、そのどちらかはわかりません。これを確認するには両手を開いて「観測(測定)」するしかありません。これが、重ね合わさっているイメージになります。\n",
    "\n",
    "コインが1つの場合、「表」か「裏」かの2種類が重ね合わせられます。では、コインが2つの場合(コイントスは独立に行う)はどうでしょう？仮に、2つのコインを $a$, $b$ としましょう。 $a$, $b$ 共に両手で覆ってしまえば、\n",
    "\n",
    "> ($a$, $b$) $=$ (表, 表), (表, 裏), (裏, 表), (裏, 裏)\n",
    "\n",
    "という4種類の重ね合わせができます。今度は、 $b$ のみ両手で覆い、 $a$ は地面に落としてしまいましょう。そのとき、 $a$ は裏が上を向いているとします。すると\n",
    "\n",
    "> ($a$, $b$) $=$ (裏, 表), (裏, 裏)\n",
    "\n",
    "という2種類の重ね合わせのみになりますね。しかし、この重ね合わせの組み合わせというものを古典的な方法でコントロールするのは難しいのです。例えば、\n",
    "\n",
    "> ($a$, $b$) $=$ (表, 表), (裏, 裏)\n",
    "\n",
    "という重ね合わせの組を考えてみましょう。これを言い換えると、「 $a$ が表であれば $b$ も表、 $a$ が裏であれば $b$ も裏」という状況です。2つのコインどちらも、表裏どちらを取る可能性もあるので両方とも覆い隠す必要があります。ですがそうすると最初の結果に一致するはずです。そもそも2つのコイントスは独立であり、片方が分かればもう片方もわかるという状況があまりに不自然であるというのは理解が難しくないと思います。しかし、量子コンピュータではこの状況を作り出すことができ、それが「量子もつれ」というものになります！\n",
    "\n",
    "とりあえずの量子もつれの理解としては、「現実的には作り出すことが難しい状態」で十分でしょう。"
   ]
  },
  {
   "cell_type": "markdown",
   "id": "bb9deed7-652a-4852-affd-78d6d3eea503",
   "metadata": {},
   "source": [
    "それではいよいよ、量子もつれを作ってみましょう！いわゆる「*Bell* 状態」というものを作ります。今回は、以下の式が表すものを作ってみましょう！\n",
    "\n",
    "> $|Bell\\rangle = \\frac{1}{\\sqrt 2}(|00\\rangle + |11\\rangle)$"
   ]
  },
  {
   "cell_type": "code",
   "execution_count": null,
   "id": "f94213d1-c19b-452d-a947-6680cfc6916d",
   "metadata": {
    "tags": []
   },
   "outputs": [],
   "source": [
    "qc = QuantumCircuit(qr)\n",
    "\n",
    "qc.h(0)\n",
    "qc.cx(0, 1)\n",
    "\n",
    "qc.draw(\"mpl\")"
   ]
  },
  {
   "cell_type": "markdown",
   "id": "ece16678-93da-49bd-bc3c-33bf90c6cb72",
   "metadata": {},
   "source": [
    "量子回路ができました！しかし、これだけだと本当に量子もつれが起こっているのかわかりません。そこで、「statevector_simulator」を使って確認しましょう！"
   ]
  },
  {
   "cell_type": "code",
   "execution_count": null,
   "id": "6a6e2d56-c648-4ba2-8ad4-0f924136d25d",
   "metadata": {
    "tags": []
   },
   "outputs": [],
   "source": [
    "backend = Aer.get_backend('statevector_simulator')\n",
    "qc_transpiled = transpile(qc, backend)\n",
    "\n",
    "job = backend.run(qc_transpiled)\n",
    "state_vec = job.result().get_statevector(qc)\n",
    "\n",
    "for i in range(4):\n",
    "    print(state_vec[i])"
   ]
  },
  {
   "cell_type": "markdown",
   "id": "2d5cc23e-00cc-442b-bf5b-d6a281effa35",
   "metadata": {},
   "source": [
    "これはまさに、\n",
    "\n",
    "> $\\frac{1}{\\sqrt 2}\\left(\\begin{array}{c}1\\\\0\\\\0\\\\1\\\\\\end{array}\\right) = \\frac{1}{\\sqrt 2}(\\left(\\begin{array}{c}1\\\\0\\\\0\\\\0\\\\\\end{array}\\right) + \\left(\\begin{array}{c}0\\\\0\\\\0\\\\1\\\\\\end{array}\\right))$\n",
    "\n",
    "となっていて、 *Bell* 状態の定義\n",
    "\n",
    "> $\\frac{1}{\\sqrt 2}(|00\\rangle + |11\\rangle) := \\frac{1}{\\sqrt 2}(\\left(\\begin{array}{c}1\\\\0\\\\0\\\\0\\\\\\end{array}\\right) + \\left(\\begin{array}{c}0\\\\0\\\\0\\\\1\\\\\\end{array}\\right))$\n",
    "\n",
    "と一致しています！"
   ]
  },
  {
   "cell_type": "markdown",
   "id": "8cb28401-81b8-46a7-98ed-466ae2b3c8c5",
   "metadata": {},
   "source": [
    "また、今度は「qasm_simulator」を使って、シミュレーション実験を行いましょう！これは量子回路の最後に測定を行うことでサンプリングをします。よって、先ほど作った回路を少しばかりイジる必要があります。\n",
    "\n",
    "まず、最初に\n",
    "\n",
    "```python\n",
    "qc = QuantumCircuit(2)\n",
    "```\n",
    "\n",
    "としていましたが、もう一つ引数を付け加えます。これは古典ビットの数を入れます。\n",
    "\n",
    "```python\n",
    "qc_new = QuantumCircuit(2, 2)\n",
    "```\n",
    "\n",
    "また、これも古典レジスタを使うと以下のように書き直せます。\n",
    "\n",
    "```python\n",
    "qr = QuantumRegister(2)\n",
    "cr = ClassicalRegister(2)\n",
    "qc_new = QuantumCircuit(qr, cr)\n",
    "```"
   ]
  },
  {
   "cell_type": "code",
   "execution_count": null,
   "id": "7c0c2b4d-6bb2-4658-b325-bd564102e65e",
   "metadata": {
    "tags": []
   },
   "outputs": [],
   "source": [
    "qr = QuantumRegister(2)\n",
    "cr = ClassicalRegister(2)\n",
    "qc_new = QuantumCircuit(qr, cr)\n",
    "\n",
    "qc_new.h(0)\n",
    "qc_new.cx(0, 1)\n",
    "\n",
    "qc_new.draw(\"mpl\")"
   ]
  },
  {
   "cell_type": "markdown",
   "id": "9be3bf9b-65b6-4090-bda4-52f9584f13ea",
   "metadata": {},
   "source": [
    "先ほどと少し変わり、下に古典レジスタを表すものが出てきました！では、ここから測定に入ります。"
   ]
  },
  {
   "cell_type": "code",
   "execution_count": null,
   "id": "4f747655-2ee2-46e1-9467-cb6d955a7876",
   "metadata": {
    "tags": []
   },
   "outputs": [],
   "source": [
    "qc_new.measure(0, 0)\n",
    "qc_new.measure(1, 1)\n",
    "\n",
    "qc_new.draw(\"mpl\")"
   ]
  },
  {
   "cell_type": "markdown",
   "id": "efa0c005-c4ff-42ed-9915-f0bb6f66a2bc",
   "metadata": {},
   "source": [
    "測定に使う $measure$ というゲートの引数は (測定する量子ビットのインデックス, 測定結果を保存する古典的レジスタのインデックス) というようになります。さてこれで測定ができるので、シミュレーションをして結果を見てみましょう！"
   ]
  },
  {
   "cell_type": "code",
   "execution_count": null,
   "id": "626cf21d-1958-4f74-9798-e3e7ddad702c",
   "metadata": {
    "tags": []
   },
   "outputs": [],
   "source": [
    "backend = Aer.get_backend('qasm_simulator')\n",
    "qc_transpiled = transpile(qc_new, backend)\n",
    "\n",
    "job = backend.run(qc_transpiled, shots=1000)\n",
    "counts = job.result().get_counts()\n",
    "plot_histogram(counts)"
   ]
  },
  {
   "cell_type": "markdown",
   "id": "22dac1f5-c65d-49f7-8feb-f23502f46367",
   "metadata": {},
   "source": [
    "このように、ほぼ同確率でこの2つの状態のみ得られました！"
   ]
  },
  {
   "cell_type": "markdown",
   "id": "bb2f27b0-bcd8-4cdf-b42f-5b05734531c9",
   "metadata": {},
   "source": [
    "それでは演習をやってみましょう！\n",
    "\n",
    "# Exercise 1\n",
    "\n",
    "**Exercise 1-a**\n",
    "\n",
    "今度は以下の *Bell* 状態を作ってみましょう！\n",
    "\n",
    "> $|Bell_{another}\\rangle = \\frac{1}{\\sqrt 2}(|01\\rangle + |10\\rangle)$\n",
    "\n",
    "これを「qasm_simulator」を使って結果を出力してください。"
   ]
  },
  {
   "cell_type": "code",
   "execution_count": null,
   "id": "e6b36792-0c8e-4fa5-9259-f36c53aac10d",
   "metadata": {
    "tags": []
   },
   "outputs": [],
   "source": [
    "qr = QuantumRegister(2)\n",
    "cr = ClassicalRegister(2)\n",
    "qc = QuantumCircuit(qr, cr)\n",
    "\n",
    "# ここから下にコードを書いてみましょう！\n",
    "\n",
    "# ここから上にコードを書いてみましょう！\n",
    "\n",
    "qc.draw(\"mpl\")"
   ]
  },
  {
   "cell_type": "code",
   "execution_count": null,
   "id": "af0d6f03-5df9-4653-b8a5-d998c63c30bb",
   "metadata": {
    "tags": []
   },
   "outputs": [],
   "source": [
    "backend = Aer.get_backend('qasm_simulator')\n",
    "qc_transpiled = transpile(qc, backend)\n",
    "\n",
    "job = backend.run(qc_transpiled, shots=1000)\n",
    "counts = job.result().get_counts()\n",
    "plot_histogram(counts).savefig(\"myans_1a.png\")"
   ]
  },
  {
   "cell_type": "markdown",
   "id": "06cd2736-0c28-4b76-9347-3b696a5b9f53",
   "metadata": {},
   "source": [
    "**Exercise 1-b**\n",
    "\n",
    "余力のある人は、先ほど使った量子ゲートのみで次の $3$ 量子ビットの量子もつれを作ってみましょう！\n",
    "\n",
    "$|ent\\rangle = \\frac{1}{2}(|001\\rangle + |010\\rangle + |100\\rangle + |111\\rangle)$\n",
    "\n",
    "「qasm_simulator」を使って結果を出力してください。"
   ]
  },
  {
   "cell_type": "code",
   "execution_count": null,
   "id": "e30edd69-8781-4154-8ed3-167a54ab93cf",
   "metadata": {
    "tags": []
   },
   "outputs": [],
   "source": [
    "qr = QuantumRegister(3)\n",
    "cr = ClassicalRegister(3)\n",
    "qc = QuantumCircuit(qr, cr)\n",
    "\n",
    "# ここから下にコードを書いてみましょう！\n",
    "\n",
    "# ここから上にコードを書いてみましょう！\n",
    "\n",
    "qc.draw(\"mpl\")"
   ]
  },
  {
   "cell_type": "code",
   "execution_count": null,
   "id": "c6775041-8c7d-4e7a-b7f2-559b38b034f9",
   "metadata": {
    "tags": []
   },
   "outputs": [],
   "source": [
    "backend = Aer.get_backend('qasm_simulator')\n",
    "qc_transpiled = transpile(qc, backend)\n",
    "\n",
    "job = backend.run(qc_transpiled, shots=1000)\n",
    "counts = job.result().get_counts()\n",
    "plot_histogram(counts).savefig(\"myans_1b.png\")"
   ]
  },
  {
   "cell_type": "markdown",
   "id": "b1890e78-b1f5-48e8-b33b-3c8d1ca29a49",
   "metadata": {},
   "source": [
    "# 実機を用いた実験\n",
    "\n",
    "今回の大目玉である実機での実験を行いましょう！"
   ]
  },
  {
   "cell_type": "code",
   "execution_count": null,
   "id": "1286e466-b6ac-41d1-b7f0-dfe685dddc9c",
   "metadata": {
    "tags": []
   },
   "outputs": [],
   "source": [
    "provider = IBMProvider()\n",
    "provider.backends()"
   ]
  },
  {
   "cell_type": "markdown",
   "id": "f0b2673a-9979-41b3-a151-bf03dbb1937c",
   "metadata": {},
   "source": [
    "使える実機の数や種類は人や時期によって変わってきます。なので毎回同じものが使えないことに注意しましょう！今回はせっかくなので、 $7$ 量子ビットのマシンを使ってみましょう。"
   ]
  },
  {
   "cell_type": "code",
   "execution_count": null,
   "id": "dfc66f26-8b55-4ec2-a058-da569deb05d5",
   "metadata": {
    "tags": []
   },
   "outputs": [],
   "source": [
    "hub = \"ibm-q\"\n",
    "group = \"open\"\n",
    "project = \"main\"\n",
    "\n",
    "backend_name = \"ibm_nairobi\"\n",
    "backend = provider.get_backend(backend_name, instance=f\"{hub}/{group}/{project}\")"
   ]
  },
  {
   "cell_type": "markdown",
   "id": "3efbac5d-0478-49f6-83ec-98c7f95b3978",
   "metadata": {},
   "source": [
    "では、上で作った *Bell* 状態を実機で実行してみましょう！"
   ]
  },
  {
   "cell_type": "code",
   "execution_count": null,
   "id": "9a86ce24-0ca4-43c7-8c69-c3cb7300c9db",
   "metadata": {
    "tags": []
   },
   "outputs": [],
   "source": [
    "qr = QuantumRegister(2)\n",
    "cr = ClassicalRegister(2)\n",
    "qc = QuantumCircuit(qr, cr)\n",
    "\n",
    "qc.h(0)\n",
    "qc.cx(0, 1)\n",
    "\n",
    "qc.measure(0, 0)\n",
    "qc.measure(1, 1)\n",
    "\n",
    "qc.draw(\"mpl\")"
   ]
  },
  {
   "cell_type": "markdown",
   "id": "69409b8f-338f-4b38-97de-4fb917148ca6",
   "metadata": {},
   "source": [
    "改めて量子回路が用意できたので、実行してみましょう。"
   ]
  },
  {
   "cell_type": "code",
   "execution_count": null,
   "id": "7d652b5d-c722-4e7b-a2c3-e62c5373155b",
   "metadata": {
    "tags": []
   },
   "outputs": [],
   "source": [
    "qc_transpiled = transpile(qc, backend)\n",
    "job = backend.run(qc_transpiled, shots=1000)\n",
    "\n",
    "counts = job.result().get_counts()\n",
    "plot_histogram(counts)"
   ]
  },
  {
   "cell_type": "markdown",
   "id": "1f2e4fc9-5102-4c6f-a4ee-34b3ca8ec1ba",
   "metadata": {},
   "source": [
    "実機はキューに入ってから実行するまでにかなり時間がかかる場合があるので、今回は事前に実行した結果だけご紹介します！\n",
    "\n",
    "![output.png](https://lab.quantum-computing.ibm.com/user/6270b5428acd4b124d17130d/files/others/output.png?_xsrf=2%7Ca7a4d62e%7C631b8eed51c39b4626700c02e34a7d32%7C1686117575)\n",
    "\n",
    "少しばかりノイズが入っていることが確認できますね。量子コンピュータでは、ノイズを考慮したアルゴリズムやエラー訂正を行うための手法など様々ありますが、それはプロに聞いてみましょう(丸投げ)。"
   ]
  },
  {
   "cell_type": "markdown",
   "id": "fc726ff0-471d-4e43-a140-50e64aa82b60",
   "metadata": {},
   "source": [
    "それでは演習をやってみましょう！\n",
    "\n",
    "# Exercise 2\n",
    "\n",
    "**Exercise 2-a**\n",
    "\n",
    "量子ビット数が $3$ 以上のとき、有名な量子もつれとして *GHZ* 状態というものがあります。これは、\n",
    "\n",
    "> $|GHZ\\rangle = \\frac{1}{\\sqrt 2}(|0\\rangle^{{\\bigotimes} n} + |1\\rangle^{{\\bigotimes} n})$\n",
    "\n",
    "で表せるものです。この演習では、 $3$ 量子ビットでの *GHZ* 状態を作り、それを実機で実行しましょう！"
   ]
  },
  {
   "cell_type": "code",
   "execution_count": null,
   "id": "8c16cb81-a654-45ce-91da-471de72dd3fe",
   "metadata": {},
   "outputs": [],
   "source": [
    "qr = QuantumRegister(3)\n",
    "cr = ClassicalRegister(3)\n",
    "qc = QuantumCircuit(qr, cr)\n",
    "\n",
    "# ここから下にコードを書いてみましょう！\n",
    "\n",
    "# ここから上にコードを書いてみましょう！\n",
    "\n",
    "qc.draw(\"mpl\")"
   ]
  },
  {
   "cell_type": "code",
   "execution_count": null,
   "id": "239c2c5b-2126-4c46-84e2-739159a37bf8",
   "metadata": {},
   "outputs": [],
   "source": [
    "hub = \"ibm-q\"\n",
    "group = \"open\"\n",
    "project = \"main\"\n",
    "\n",
    "# ここから下にコードを書いてみましょう！\n",
    "backend_name = \n",
    "# ここから上にコードを書いてみましょう！\n",
    "\n",
    "backend = provider.get_backend(backend_name, instance=f\"{hub}/{group}/{project}\")\n",
    "\n",
    "qc_transpiled = transpile(qc, backend)\n",
    "job = backend.run(qc_transpiled, shots=1000)\n",
    "\n",
    "counts = job.result().get_counts()\n",
    "plot_histogram(counts).savefig(\"myans_2a.png\")"
   ]
  },
  {
   "cell_type": "markdown",
   "id": "36404d05-e3b9-4386-91ab-a3dc52e90a72",
   "metadata": {},
   "source": [
    "**Exercise 2-b**\n",
    "\n",
    "余力のある人は、今度は $7$ 量子ビットの *GHZ* 状態を作ってみましょう！また、以下のことを考えてみてください。\n",
    "\n",
    "普通、アルゴリズムを扱う上で「計算量」というものを気にします。これは、コンピュータでの負荷を抑え、高速に計算することや、メモリを確保するためにより良いアルゴリズムを考えるというものです。量子コンピュータでのプログラミングも例外ではなく、量子回路を設計する際に、その回路の深さ( *depth* )というものをなるべく浅くすることを心がけましょう。例として $S$ ゲートというものがあり、これを2個繋げると $Z$ ゲートになるのですが、もちろん $S$ ゲートを2個続けてかけるより $Z$ ゲートを1個かけてあげる方が計算量は少なくて済みます。Qiskitでは、作った量子回路の *depth* を調べるための `QuantumCircuit.depth()` というメソッドが提供されてます。これを使って最も浅い量子回路を作成しましょう！最も浅い量子回路の *depth* は $5$ です！"
   ]
  },
  {
   "cell_type": "code",
   "execution_count": null,
   "id": "67f89b68-4bf8-4c21-accc-1bd43e4326e5",
   "metadata": {
    "tags": []
   },
   "outputs": [],
   "source": [
    "qr = QuantumRegister(7)\n",
    "cr = ClassicalRegister(7)\n",
    "qc = QuantumCircuit(qr, cr)\n",
    "\n",
    "# ここから下にコードを書いてみましょう！\n",
    "\n",
    "# ここから上にコードを書いてみましょう！\n",
    "\n",
    "# 測定\n",
    "for i in range(7):\n",
    "    qc.measure(i, i)\n",
    "    \n",
    "qc.draw(\"mpl\")"
   ]
  },
  {
   "cell_type": "code",
   "execution_count": null,
   "id": "c4c135d2-d519-475b-b125-14e811cff504",
   "metadata": {
    "tags": []
   },
   "outputs": [],
   "source": [
    "if qc.depth() == 5:\n",
    "\n",
    "    # 7量子ビットのマシンが設定されていなければ、ここから下にコードを書いてみましょう！\n",
    "    \n",
    "    # 7量子ビットのマシンが設定されていなければ、ここから上にコードを書いてみましょう！\n",
    "\n",
    "    qc_transpiled = transpile(qc, backend)\n",
    "    job = backend.run(qc_transpiled, shots=1000)\n",
    "\n",
    "    counts = job.result().get_counts()\n",
    "    plot_histogram(counts).savefig(\"myans_2b.png\")\n",
    "else:\n",
    "    print(\"wrong circuit :(\")"
   ]
  },
  {
   "cell_type": "code",
   "execution_count": null,
   "id": "dd7d5e3a-b70f-4da9-9953-19d3c4a57829",
   "metadata": {},
   "outputs": [],
   "source": []
  }
 ],
 "metadata": {
  "kernelspec": {
   "display_name": "Python 3 (ipykernel)",
   "language": "python",
   "name": "python3"
  },
  "language_info": {
   "codemirror_mode": {
    "name": "ipython",
    "version": 3
   },
   "file_extension": ".py",
   "mimetype": "text/x-python",
   "name": "python",
   "nbconvert_exporter": "python",
   "pygments_lexer": "ipython3",
   "version": "3.10.8"
  },
  "widgets": {
   "application/vnd.jupyter.widget-state+json": {
    "state": {},
    "version_major": 2,
    "version_minor": 0
   }
  }
 },
 "nbformat": 4,
 "nbformat_minor": 5
}
