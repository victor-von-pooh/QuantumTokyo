{
 "cells": [
  {
   "cell_type": "code",
   "execution_count": null,
   "id": "56f3b7ff-fec0-489f-8ca4-cc6d823d86e9",
   "metadata": {},
   "outputs": [],
   "source": [
    "qc.h(0)\n",
    "qc.h(1)\n",
    "\n",
    "qc.cx(0, 2)\n",
    "qc.cx(1, 2)\n",
    "\n",
    "for i in range(3):\n",
    "    qc.x(i)\n",
    "\n",
    "for i in range(3):\n",
    "    qc.measure(i, i)"
   ]
  }
 ],
 "metadata": {
  "kernelspec": {
   "display_name": "Python 3 (ipykernel)",
   "language": "python",
   "name": "python3"
  },
  "language_info": {
   "codemirror_mode": {
    "name": "ipython",
    "version": 3
   },
   "file_extension": ".py",
   "mimetype": "text/x-python",
   "name": "python",
   "nbconvert_exporter": "python",
   "pygments_lexer": "ipython3",
   "version": "3.10.8"
  },
  "widgets": {
   "application/vnd.jupyter.widget-state+json": {
    "state": {
     "013f660326294bb5a4939890a97a112a": {
      "model_module": "@jupyter-widgets/base",
      "model_module_version": "2.0.0",
      "model_name": "LayoutModel",
      "state": {
       "margin": "0px 0px 10px 0px"
      }
     },
     "02577a62757b4b34bfabba7c59368c75": {
      "model_module": "@jupyter-widgets/controls",
      "model_module_version": "2.0.0",
      "model_name": "HBoxModel",
      "state": {
       "children": [
        "IPY_MODEL_525cca78cc2c42188729bfc0a208e992",
        "IPY_MODEL_fc33464652c7418cb8716b793202a92f",
        "IPY_MODEL_f6232938153c46808abca898c719c107",
        "IPY_MODEL_ec1ff376580344bdbb129a3167f2b7b9",
        "IPY_MODEL_61de18a1819a441eb8cafc2b29ff7048"
       ],
       "layout": "IPY_MODEL_91259e5d5c1b41db98a41aaffecc0b57"
      }
     },
     "0bb86ea7047e4c66a59a823dcb3566ad": {
      "model_module": "@jupyter-widgets/controls",
      "model_module_version": "2.0.0",
      "model_name": "HTMLStyleModel",
      "state": {
       "description_width": "",
       "font_size": null,
       "text_color": null
      }
     },
     "14631984a74a417e958f6f7002806c5e": {
      "model_module": "@jupyter-widgets/base",
      "model_module_version": "2.0.0",
      "model_name": "LayoutModel",
      "state": {
       "width": "190px"
      }
     },
     "3195b19678834a21b67ed6dfe28e3fe7": {
      "model_module": "@jupyter-widgets/controls",
      "model_module_version": "2.0.0",
      "model_name": "ButtonModel",
      "state": {
       "button_style": "primary",
       "description": "Clear",
       "layout": "IPY_MODEL_c08c71b0e329402e90f96aa422d0ea3d",
       "style": "IPY_MODEL_e9514b258b994e418c70bc4c1147171e",
       "tooltip": null
      }
     },
     "388931bf68d4400f8e15d6b6101e7030": {
      "model_module": "@jupyter-widgets/controls",
      "model_module_version": "2.0.0",
      "model_name": "HTMLStyleModel",
      "state": {
       "description_width": "",
       "font_size": null,
       "text_color": null
      }
     },
     "49fa675ce5fd4bbdb9d35d39fbffff6e": {
      "model_module": "@jupyter-widgets/controls",
      "model_module_version": "2.0.0",
      "model_name": "HTMLStyleModel",
      "state": {
       "description_width": "",
       "font_size": null,
       "text_color": null
      }
     },
     "525cca78cc2c42188729bfc0a208e992": {
      "model_module": "@jupyter-widgets/controls",
      "model_module_version": "2.0.0",
      "model_name": "HTMLModel",
      "state": {
       "layout": "IPY_MODEL_14631984a74a417e958f6f7002806c5e",
       "style": "IPY_MODEL_dc058bb03b4a4c2d94a03d0bd4141d78",
       "value": "<h5>Job ID</h5>"
      }
     },
     "61de18a1819a441eb8cafc2b29ff7048": {
      "model_module": "@jupyter-widgets/controls",
      "model_module_version": "2.0.0",
      "model_name": "HTMLModel",
      "state": {
       "layout": "IPY_MODEL_991c18ef91bb41f7bfe2dc19c790da98",
       "style": "IPY_MODEL_388931bf68d4400f8e15d6b6101e7030",
       "value": "<h5>Message</h5>"
      }
     },
     "72640d4b3bdc4de0ae5ef1842a53c27f": {
      "model_module": "@jupyter-widgets/base",
      "model_module_version": "2.0.0",
      "model_name": "LayoutModel",
      "state": {
       "width": "95px"
      }
     },
     "8051a26e28c24308b0bcb3412b9a943c": {
      "model_module": "@jupyter-widgets/controls",
      "model_module_version": "2.0.0",
      "model_name": "GridBoxModel",
      "state": {
       "children": [
        "IPY_MODEL_3195b19678834a21b67ed6dfe28e3fe7"
       ],
       "layout": "IPY_MODEL_d4604c198cba409d80e9b299f6bd2a20"
      }
     },
     "91259e5d5c1b41db98a41aaffecc0b57": {
      "model_module": "@jupyter-widgets/base",
      "model_module_version": "2.0.0",
      "model_name": "LayoutModel",
      "state": {
       "margin": "0px 0px 0px 37px",
       "width": "600px"
      }
     },
     "991c18ef91bb41f7bfe2dc19c790da98": {
      "model_module": "@jupyter-widgets/base",
      "model_module_version": "2.0.0",
      "model_name": "LayoutModel",
      "state": {}
     },
     "a06d295c7d7846a4bcf2b7b712e661ee": {
      "model_module": "@jupyter-widgets/controls",
      "model_module_version": "2.0.0",
      "model_name": "HTMLModel",
      "state": {
       "layout": "IPY_MODEL_013f660326294bb5a4939890a97a112a",
       "style": "IPY_MODEL_0bb86ea7047e4c66a59a823dcb3566ad",
       "value": "<p style='font-family: IBM Plex Sans, Arial, Helvetica, sans-serif; font-size: 20px; font-weight: medium;'>Circuit Properties</p>"
      }
     },
     "a53e494948124b24bc46b18d57fa0067": {
      "model_module": "@jupyter-widgets/controls",
      "model_module_version": "2.0.0",
      "model_name": "HTMLStyleModel",
      "state": {
       "description_width": "",
       "font_size": null,
       "text_color": null
      }
     },
     "aee8ed1bfff94f6d98932642f194e448": {
      "model_module": "@jupyter-widgets/base",
      "model_module_version": "2.0.0",
      "model_name": "LayoutModel",
      "state": {
       "width": "145px"
      }
     },
     "c08c71b0e329402e90f96aa422d0ea3d": {
      "model_module": "@jupyter-widgets/base",
      "model_module_version": "2.0.0",
      "model_name": "LayoutModel",
      "state": {
       "grid_area": "right",
       "padding": "0px 0px 0px 0px",
       "width": "70px"
      }
     },
     "c81386405a30473cb52192d1ebb9ad5c": {
      "model_module": "@jupyter-widgets/controls",
      "model_module_version": "2.0.0",
      "model_name": "HTMLStyleModel",
      "state": {
       "description_width": "",
       "font_size": null,
       "text_color": null
      }
     },
     "d4604c198cba409d80e9b299f6bd2a20": {
      "model_module": "@jupyter-widgets/base",
      "model_module_version": "2.0.0",
      "model_name": "LayoutModel",
      "state": {
       "grid_template_areas": "\n                                       \". . . . right \"\n                                        ",
       "grid_template_columns": "20% 20% 20% 20% 20%",
       "width": "100%"
      }
     },
     "dc058bb03b4a4c2d94a03d0bd4141d78": {
      "model_module": "@jupyter-widgets/controls",
      "model_module_version": "2.0.0",
      "model_name": "HTMLStyleModel",
      "state": {
       "description_width": "",
       "font_size": null,
       "text_color": null
      }
     },
     "e243e977c87f47cc93e59c461efb27f8": {
      "model_module": "@jupyter-widgets/base",
      "model_module_version": "2.0.0",
      "model_name": "LayoutModel",
      "state": {
       "width": "70px"
      }
     },
     "e9514b258b994e418c70bc4c1147171e": {
      "model_module": "@jupyter-widgets/controls",
      "model_module_version": "2.0.0",
      "model_name": "ButtonStyleModel",
      "state": {
       "font_family": null,
       "font_size": null,
       "font_style": null,
       "font_variant": null,
       "font_weight": null,
       "text_color": null,
       "text_decoration": null
      }
     },
     "ec1ff376580344bdbb129a3167f2b7b9": {
      "model_module": "@jupyter-widgets/controls",
      "model_module_version": "2.0.0",
      "model_name": "HTMLModel",
      "state": {
       "layout": "IPY_MODEL_e243e977c87f47cc93e59c461efb27f8",
       "style": "IPY_MODEL_49fa675ce5fd4bbdb9d35d39fbffff6e",
       "value": "<h5>Queue</h5>"
      }
     },
     "f6232938153c46808abca898c719c107": {
      "model_module": "@jupyter-widgets/controls",
      "model_module_version": "2.0.0",
      "model_name": "HTMLModel",
      "state": {
       "layout": "IPY_MODEL_72640d4b3bdc4de0ae5ef1842a53c27f",
       "style": "IPY_MODEL_c81386405a30473cb52192d1ebb9ad5c",
       "value": "<h5>Status</h5>"
      }
     },
     "fc33464652c7418cb8716b793202a92f": {
      "model_module": "@jupyter-widgets/controls",
      "model_module_version": "2.0.0",
      "model_name": "HTMLModel",
      "state": {
       "layout": "IPY_MODEL_aee8ed1bfff94f6d98932642f194e448",
       "style": "IPY_MODEL_a53e494948124b24bc46b18d57fa0067",
       "value": "<h5>Backend</h5>"
      }
     }
    },
    "version_major": 2,
    "version_minor": 0
   }
  }
 },
 "nbformat": 4,
 "nbformat_minor": 5
}
