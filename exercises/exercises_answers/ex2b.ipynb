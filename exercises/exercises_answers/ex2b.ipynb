{
 "cells": [
  {
   "cell_type": "code",
   "execution_count": null,
   "id": "2713c8b6-5d9e-4b06-a428-d40d1ae9d4f3",
   "metadata": {},
   "outputs": [],
   "source": [
    "qc.h(0)\n",
    "\n",
    "qc.cx(0, 1)\n",
    "\n",
    "qc.cx(0, 2)\n",
    "qc.cx(1, 3)\n",
    "\n",
    "qc.cx(0, 4)\n",
    "qc.cx(1, 5)\n",
    "qc.cx(2, 6)"
   ]
  }
 ],
 "metadata": {
  "kernelspec": {
   "display_name": "Python 3 (ipykernel)",
   "language": "python",
   "name": "python3"
  },
  "language_info": {
   "codemirror_mode": {
    "name": "ipython",
    "version": 3
   },
   "file_extension": ".py",
   "mimetype": "text/x-python",
   "name": "python",
   "nbconvert_exporter": "python",
   "pygments_lexer": "ipython3",
   "version": "3.10.8"
  },
  "widgets": {
   "application/vnd.jupyter.widget-state+json": {
    "state": {
     "0456208e8ba44ae6be82721c8d73ac09": {
      "model_module": "@jupyter-widgets/base",
      "model_module_version": "2.0.0",
      "model_name": "LayoutModel",
      "state": {
       "width": "70px"
      }
     },
     "05b2e857302d4b3d8e5d319c3d02ebd5": {
      "model_module": "@jupyter-widgets/controls",
      "model_module_version": "2.0.0",
      "model_name": "HTMLStyleModel",
      "state": {
       "description_width": "",
       "font_size": null,
       "text_color": null
      }
     },
     "0bfc580220d547aa813aa878dc71cb50": {
      "model_module": "@jupyter-widgets/controls",
      "model_module_version": "2.0.0",
      "model_name": "HTMLStyleModel",
      "state": {
       "description_width": "",
       "font_size": null,
       "text_color": null
      }
     },
     "1127b17ab9d34a9193664ecb660d625c": {
      "model_module": "@jupyter-widgets/controls",
      "model_module_version": "2.0.0",
      "model_name": "ButtonModel",
      "state": {
       "button_style": "primary",
       "description": "Clear",
       "layout": "IPY_MODEL_ee7e63cef5a34c3b83e77c4d9f085e06",
       "style": "IPY_MODEL_85b2e3715fb14b05a79551519719815e",
       "tooltip": null
      }
     },
     "11306a5229fb4d46b348aea9cb3c5ea2": {
      "model_module": "@jupyter-widgets/controls",
      "model_module_version": "2.0.0",
      "model_name": "HTMLModel",
      "state": {
       "layout": "IPY_MODEL_d617cde08b224027a6ad314bb433e504",
       "style": "IPY_MODEL_d0af676e7e2245678bab354e257d125a",
       "value": "<h5>Message</h5>"
      }
     },
     "1abe5d0668754ef6b5dc334e4ed5a3f5": {
      "model_module": "@jupyter-widgets/base",
      "model_module_version": "2.0.0",
      "model_name": "LayoutModel",
      "state": {
       "margin": "0px 0px 10px 0px"
      }
     },
     "229c3364eff349e0829d1bdaa47967fd": {
      "model_module": "@jupyter-widgets/controls",
      "model_module_version": "2.0.0",
      "model_name": "HTMLModel",
      "state": {
       "layout": "IPY_MODEL_1abe5d0668754ef6b5dc334e4ed5a3f5",
       "style": "IPY_MODEL_6a72f52d9fe448d1a21af8e57e61bb64",
       "value": "<p style='font-family: IBM Plex Sans, Arial, Helvetica, sans-serif; font-size: 20px; font-weight: medium;'>Circuit Properties</p>"
      }
     },
     "36b87897d5bf4e7a9917e6e813faefa3": {
      "model_module": "@jupyter-widgets/controls",
      "model_module_version": "2.0.0",
      "model_name": "HTMLModel",
      "state": {
       "layout": "IPY_MODEL_0456208e8ba44ae6be82721c8d73ac09",
       "style": "IPY_MODEL_b70af0626e644138b324bd646a92d7d3",
       "value": "<h5>Queue</h5>"
      }
     },
     "40b254717d434684a4e5b833e8c23148": {
      "model_module": "@jupyter-widgets/base",
      "model_module_version": "2.0.0",
      "model_name": "LayoutModel",
      "state": {
       "width": "95px"
      }
     },
     "4269d973ce83413781302a5d7400f992": {
      "model_module": "@jupyter-widgets/controls",
      "model_module_version": "2.0.0",
      "model_name": "HTMLStyleModel",
      "state": {
       "description_width": "",
       "font_size": null,
       "text_color": null
      }
     },
     "501b3c2325b4419689e8b999e8c47f80": {
      "model_module": "@jupyter-widgets/base",
      "model_module_version": "2.0.0",
      "model_name": "LayoutModel",
      "state": {
       "width": "145px"
      }
     },
     "50831191466142199537ea2b89164839": {
      "model_module": "@jupyter-widgets/base",
      "model_module_version": "2.0.0",
      "model_name": "LayoutModel",
      "state": {
       "width": "190px"
      }
     },
     "6018b29e76ee4f4f938734dbc6499e01": {
      "model_module": "@jupyter-widgets/base",
      "model_module_version": "2.0.0",
      "model_name": "LayoutModel",
      "state": {
       "grid_template_areas": "\n                                       \". . . . right \"\n                                        ",
       "grid_template_columns": "20% 20% 20% 20% 20%",
       "width": "100%"
      }
     },
     "6a72f52d9fe448d1a21af8e57e61bb64": {
      "model_module": "@jupyter-widgets/controls",
      "model_module_version": "2.0.0",
      "model_name": "HTMLStyleModel",
      "state": {
       "description_width": "",
       "font_size": null,
       "text_color": null
      }
     },
     "6b8cbd64f4384bb58bbd8b4f670d1f85": {
      "model_module": "@jupyter-widgets/controls",
      "model_module_version": "2.0.0",
      "model_name": "HTMLModel",
      "state": {
       "layout": "IPY_MODEL_50831191466142199537ea2b89164839",
       "style": "IPY_MODEL_05b2e857302d4b3d8e5d319c3d02ebd5",
       "value": "<h5>Job ID</h5>"
      }
     },
     "839019894f0646beaf1ad025bb7d05c0": {
      "model_module": "@jupyter-widgets/controls",
      "model_module_version": "2.0.0",
      "model_name": "HTMLModel",
      "state": {
       "layout": "IPY_MODEL_501b3c2325b4419689e8b999e8c47f80",
       "style": "IPY_MODEL_4269d973ce83413781302a5d7400f992",
       "value": "<h5>Backend</h5>"
      }
     },
     "85b2e3715fb14b05a79551519719815e": {
      "model_module": "@jupyter-widgets/controls",
      "model_module_version": "2.0.0",
      "model_name": "ButtonStyleModel",
      "state": {
       "font_family": null,
       "font_size": null,
       "font_style": null,
       "font_variant": null,
       "font_weight": null,
       "text_color": null,
       "text_decoration": null
      }
     },
     "9f7b795f51bc4a5288a8d39ec0887bd3": {
      "model_module": "@jupyter-widgets/controls",
      "model_module_version": "2.0.0",
      "model_name": "HBoxModel",
      "state": {
       "children": [
        "IPY_MODEL_6b8cbd64f4384bb58bbd8b4f670d1f85",
        "IPY_MODEL_839019894f0646beaf1ad025bb7d05c0",
        "IPY_MODEL_b495a026129b4e3486f9c02ff41c0a29",
        "IPY_MODEL_36b87897d5bf4e7a9917e6e813faefa3",
        "IPY_MODEL_11306a5229fb4d46b348aea9cb3c5ea2"
       ],
       "layout": "IPY_MODEL_a0c14816e0724ff6bdd3c275ddde590f"
      }
     },
     "a0c14816e0724ff6bdd3c275ddde590f": {
      "model_module": "@jupyter-widgets/base",
      "model_module_version": "2.0.0",
      "model_name": "LayoutModel",
      "state": {
       "margin": "0px 0px 0px 37px",
       "width": "600px"
      }
     },
     "b495a026129b4e3486f9c02ff41c0a29": {
      "model_module": "@jupyter-widgets/controls",
      "model_module_version": "2.0.0",
      "model_name": "HTMLModel",
      "state": {
       "layout": "IPY_MODEL_40b254717d434684a4e5b833e8c23148",
       "style": "IPY_MODEL_0bfc580220d547aa813aa878dc71cb50",
       "value": "<h5>Status</h5>"
      }
     },
     "b70af0626e644138b324bd646a92d7d3": {
      "model_module": "@jupyter-widgets/controls",
      "model_module_version": "2.0.0",
      "model_name": "HTMLStyleModel",
      "state": {
       "description_width": "",
       "font_size": null,
       "text_color": null
      }
     },
     "d0af676e7e2245678bab354e257d125a": {
      "model_module": "@jupyter-widgets/controls",
      "model_module_version": "2.0.0",
      "model_name": "HTMLStyleModel",
      "state": {
       "description_width": "",
       "font_size": null,
       "text_color": null
      }
     },
     "d617cde08b224027a6ad314bb433e504": {
      "model_module": "@jupyter-widgets/base",
      "model_module_version": "2.0.0",
      "model_name": "LayoutModel",
      "state": {}
     },
     "e6c8c493aad44b23a7edcaadca93cea5": {
      "model_module": "@jupyter-widgets/controls",
      "model_module_version": "2.0.0",
      "model_name": "GridBoxModel",
      "state": {
       "children": [
        "IPY_MODEL_1127b17ab9d34a9193664ecb660d625c"
       ],
       "layout": "IPY_MODEL_6018b29e76ee4f4f938734dbc6499e01"
      }
     },
     "ee7e63cef5a34c3b83e77c4d9f085e06": {
      "model_module": "@jupyter-widgets/base",
      "model_module_version": "2.0.0",
      "model_name": "LayoutModel",
      "state": {
       "grid_area": "right",
       "padding": "0px 0px 0px 0px",
       "width": "70px"
      }
     }
    },
    "version_major": 2,
    "version_minor": 0
   }
  }
 },
 "nbformat": 4,
 "nbformat_minor": 5
}
