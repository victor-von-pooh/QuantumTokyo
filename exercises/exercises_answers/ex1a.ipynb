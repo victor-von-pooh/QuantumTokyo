{
 "cells": [
  {
   "cell_type": "code",
   "execution_count": null,
   "id": "66ea7a15-999d-40b4-a796-27a211e0337e",
   "metadata": {},
   "outputs": [],
   "source": [
    "qc.h(0)\n",
    "qc.cx(0, 1)\n",
    "qc.x(0)\n",
    "\n",
    "qc.measure(0, 0)\n",
    "qc.measure(1, 1)"
   ]
  }
 ],
 "metadata": {
  "kernelspec": {
   "display_name": "Python 3 (ipykernel)",
   "language": "python",
   "name": "python3"
  },
  "language_info": {
   "codemirror_mode": {
    "name": "ipython",
    "version": 3
   },
   "file_extension": ".py",
   "mimetype": "text/x-python",
   "name": "python",
   "nbconvert_exporter": "python",
   "pygments_lexer": "ipython3",
   "version": "3.10.8"
  },
  "widgets": {
   "application/vnd.jupyter.widget-state+json": {
    "state": {
     "05212ffceaba46b9bc04739a7ccd1042": {
      "model_module": "@jupyter-widgets/controls",
      "model_module_version": "2.0.0",
      "model_name": "HTMLModel",
      "state": {
       "layout": "IPY_MODEL_ebbf14f0933d4799b2a00655065b842e",
       "style": "IPY_MODEL_12d39baa01df45adb7e5415303206802",
       "value": "<h5>Queue</h5>"
      }
     },
     "0aa13fe1c6bd43f0b73964edc8cf1bf4": {
      "model_module": "@jupyter-widgets/base",
      "model_module_version": "2.0.0",
      "model_name": "LayoutModel",
      "state": {
       "width": "95px"
      }
     },
     "0e49242b91754548b8ed82de741345c1": {
      "model_module": "@jupyter-widgets/controls",
      "model_module_version": "2.0.0",
      "model_name": "ButtonModel",
      "state": {
       "button_style": "primary",
       "description": "Clear",
       "layout": "IPY_MODEL_9254599cb9d14f0a9d0bdb4190a22c15",
       "style": "IPY_MODEL_648aa3be4210400eb60a0b508c0a737d",
       "tooltip": null
      }
     },
     "12d39baa01df45adb7e5415303206802": {
      "model_module": "@jupyter-widgets/controls",
      "model_module_version": "2.0.0",
      "model_name": "HTMLStyleModel",
      "state": {
       "description_width": "",
       "font_size": null,
       "text_color": null
      }
     },
     "16ecd66d677e4e59bdac25ea60fcd88b": {
      "model_module": "@jupyter-widgets/base",
      "model_module_version": "2.0.0",
      "model_name": "LayoutModel",
      "state": {
       "width": "145px"
      }
     },
     "34a3f756ca284206972a89e7a8edb3c8": {
      "model_module": "@jupyter-widgets/base",
      "model_module_version": "2.0.0",
      "model_name": "LayoutModel",
      "state": {}
     },
     "4a3fd4a3be214510a6ccad06ed789f79": {
      "model_module": "@jupyter-widgets/controls",
      "model_module_version": "2.0.0",
      "model_name": "HTMLModel",
      "state": {
       "layout": "IPY_MODEL_16ecd66d677e4e59bdac25ea60fcd88b",
       "style": "IPY_MODEL_b387defbb61d4a609508fc0764dba36d",
       "value": "<h5>Backend</h5>"
      }
     },
     "51179c65e06a459a81ea05c541877749": {
      "model_module": "@jupyter-widgets/controls",
      "model_module_version": "2.0.0",
      "model_name": "GridBoxModel",
      "state": {
       "children": [
        "IPY_MODEL_0e49242b91754548b8ed82de741345c1"
       ],
       "layout": "IPY_MODEL_9f2e99f12d204c0899af4fac4acb516b"
      }
     },
     "62e8270a756c4211ab76afd78b7d356c": {
      "model_module": "@jupyter-widgets/base",
      "model_module_version": "2.0.0",
      "model_name": "LayoutModel",
      "state": {
       "margin": "0px 0px 10px 0px"
      }
     },
     "648aa3be4210400eb60a0b508c0a737d": {
      "model_module": "@jupyter-widgets/controls",
      "model_module_version": "2.0.0",
      "model_name": "ButtonStyleModel",
      "state": {
       "font_family": null,
       "font_size": null,
       "font_style": null,
       "font_variant": null,
       "font_weight": null,
       "text_color": null,
       "text_decoration": null
      }
     },
     "78549f43fe5c44c1bdfa254b3931b18b": {
      "model_module": "@jupyter-widgets/controls",
      "model_module_version": "2.0.0",
      "model_name": "HTMLStyleModel",
      "state": {
       "description_width": "",
       "font_size": null,
       "text_color": null
      }
     },
     "797f6e2040124fa2a7ec92df9373954f": {
      "model_module": "@jupyter-widgets/controls",
      "model_module_version": "2.0.0",
      "model_name": "HTMLModel",
      "state": {
       "layout": "IPY_MODEL_eace07bcc2e54ff4baf8b86fcdd38843",
       "style": "IPY_MODEL_de5999b7c8544b5382f1788f543b351c",
       "value": "<h5>Job ID</h5>"
      }
     },
     "7e1e8036eca84c8d8df82b13884dceb8": {
      "model_module": "@jupyter-widgets/controls",
      "model_module_version": "2.0.0",
      "model_name": "HBoxModel",
      "state": {
       "children": [
        "IPY_MODEL_797f6e2040124fa2a7ec92df9373954f",
        "IPY_MODEL_4a3fd4a3be214510a6ccad06ed789f79",
        "IPY_MODEL_b4d36b61770c4369ae88bb12442bccc1",
        "IPY_MODEL_05212ffceaba46b9bc04739a7ccd1042",
        "IPY_MODEL_d036fe00ed374eb58b3137eef05eda37"
       ],
       "layout": "IPY_MODEL_e2b88ff293364e31882e91eb37335acb"
      }
     },
     "9254599cb9d14f0a9d0bdb4190a22c15": {
      "model_module": "@jupyter-widgets/base",
      "model_module_version": "2.0.0",
      "model_name": "LayoutModel",
      "state": {
       "grid_area": "right",
       "padding": "0px 0px 0px 0px",
       "width": "70px"
      }
     },
     "9443e7349c8240f79ca2553cdc5d2ddd": {
      "model_module": "@jupyter-widgets/controls",
      "model_module_version": "2.0.0",
      "model_name": "HTMLStyleModel",
      "state": {
       "description_width": "",
       "font_size": null,
       "text_color": null
      }
     },
     "9f2e99f12d204c0899af4fac4acb516b": {
      "model_module": "@jupyter-widgets/base",
      "model_module_version": "2.0.0",
      "model_name": "LayoutModel",
      "state": {
       "grid_template_areas": "\n                                       \". . . . right \"\n                                        ",
       "grid_template_columns": "20% 20% 20% 20% 20%",
       "width": "100%"
      }
     },
     "b387defbb61d4a609508fc0764dba36d": {
      "model_module": "@jupyter-widgets/controls",
      "model_module_version": "2.0.0",
      "model_name": "HTMLStyleModel",
      "state": {
       "description_width": "",
       "font_size": null,
       "text_color": null
      }
     },
     "b4d36b61770c4369ae88bb12442bccc1": {
      "model_module": "@jupyter-widgets/controls",
      "model_module_version": "2.0.0",
      "model_name": "HTMLModel",
      "state": {
       "layout": "IPY_MODEL_0aa13fe1c6bd43f0b73964edc8cf1bf4",
       "style": "IPY_MODEL_9443e7349c8240f79ca2553cdc5d2ddd",
       "value": "<h5>Status</h5>"
      }
     },
     "c58bfb8ccff74d1c956702c683aa5042": {
      "model_module": "@jupyter-widgets/controls",
      "model_module_version": "2.0.0",
      "model_name": "HTMLModel",
      "state": {
       "layout": "IPY_MODEL_62e8270a756c4211ab76afd78b7d356c",
       "style": "IPY_MODEL_78549f43fe5c44c1bdfa254b3931b18b",
       "value": "<p style='font-family: IBM Plex Sans, Arial, Helvetica, sans-serif; font-size: 20px; font-weight: medium;'>Circuit Properties</p>"
      }
     },
     "d036fe00ed374eb58b3137eef05eda37": {
      "model_module": "@jupyter-widgets/controls",
      "model_module_version": "2.0.0",
      "model_name": "HTMLModel",
      "state": {
       "layout": "IPY_MODEL_34a3f756ca284206972a89e7a8edb3c8",
       "style": "IPY_MODEL_d9c3b446f9f54dc6b426f56c85829775",
       "value": "<h5>Message</h5>"
      }
     },
     "d9c3b446f9f54dc6b426f56c85829775": {
      "model_module": "@jupyter-widgets/controls",
      "model_module_version": "2.0.0",
      "model_name": "HTMLStyleModel",
      "state": {
       "description_width": "",
       "font_size": null,
       "text_color": null
      }
     },
     "de5999b7c8544b5382f1788f543b351c": {
      "model_module": "@jupyter-widgets/controls",
      "model_module_version": "2.0.0",
      "model_name": "HTMLStyleModel",
      "state": {
       "description_width": "",
       "font_size": null,
       "text_color": null
      }
     },
     "e2b88ff293364e31882e91eb37335acb": {
      "model_module": "@jupyter-widgets/base",
      "model_module_version": "2.0.0",
      "model_name": "LayoutModel",
      "state": {
       "margin": "0px 0px 0px 37px",
       "width": "600px"
      }
     },
     "eace07bcc2e54ff4baf8b86fcdd38843": {
      "model_module": "@jupyter-widgets/base",
      "model_module_version": "2.0.0",
      "model_name": "LayoutModel",
      "state": {
       "width": "190px"
      }
     },
     "ebbf14f0933d4799b2a00655065b842e": {
      "model_module": "@jupyter-widgets/base",
      "model_module_version": "2.0.0",
      "model_name": "LayoutModel",
      "state": {
       "width": "70px"
      }
     }
    },
    "version_major": 2,
    "version_minor": 0
   }
  }
 },
 "nbformat": 4,
 "nbformat_minor": 5
}
