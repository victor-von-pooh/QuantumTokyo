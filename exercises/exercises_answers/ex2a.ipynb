{
 "cells": [
  {
   "cell_type": "code",
   "execution_count": null,
   "id": "90e54644-67ec-4bd0-935a-e9d5bf6c36df",
   "metadata": {},
   "outputs": [],
   "source": [
    "qc.h(0)\n",
    "qc.cx(0, 1)\n",
    "qc.cx(0, 2)\n",
    "\n",
    "for i in range(3):\n",
    "    qc.measure(i, i)"
   ]
  },
  {
   "cell_type": "code",
   "execution_count": null,
   "id": "0f810d54-a9fd-4856-815b-cf310843b8ec",
   "metadata": {},
   "outputs": [],
   "source": [
    "\"ibm_nairobi\""
   ]
  }
 ],
 "metadata": {
  "kernelspec": {
   "display_name": "Python 3 (ipykernel)",
   "language": "python",
   "name": "python3"
  },
  "language_info": {
   "codemirror_mode": {
    "name": "ipython",
    "version": 3
   },
   "file_extension": ".py",
   "mimetype": "text/x-python",
   "name": "python",
   "nbconvert_exporter": "python",
   "pygments_lexer": "ipython3",
   "version": "3.10.8"
  },
  "widgets": {
   "application/vnd.jupyter.widget-state+json": {
    "state": {
     "046bc304891e4f60a6018016c4015dd6": {
      "model_module": "@jupyter-widgets/controls",
      "model_module_version": "2.0.0",
      "model_name": "HTMLStyleModel",
      "state": {
       "description_width": "",
       "font_size": null,
       "text_color": null
      }
     },
     "08f5316b0128492586a5f10dec8c6425": {
      "model_module": "@jupyter-widgets/base",
      "model_module_version": "2.0.0",
      "model_name": "LayoutModel",
      "state": {
       "margin": "0px 0px 0px 37px",
       "width": "600px"
      }
     },
     "0efa30e264a0452cace90640d71fd616": {
      "model_module": "@jupyter-widgets/base",
      "model_module_version": "2.0.0",
      "model_name": "LayoutModel",
      "state": {
       "width": "70px"
      }
     },
     "1da0c3faf7fd41798ef3f273012fd044": {
      "model_module": "@jupyter-widgets/controls",
      "model_module_version": "2.0.0",
      "model_name": "HTMLStyleModel",
      "state": {
       "description_width": "",
       "font_size": null,
       "text_color": null
      }
     },
     "2d613c39987b4ab1ad041a20dc3a2c60": {
      "model_module": "@jupyter-widgets/base",
      "model_module_version": "2.0.0",
      "model_name": "LayoutModel",
      "state": {
       "grid_area": "right",
       "padding": "0px 0px 0px 0px",
       "width": "70px"
      }
     },
     "3a548297f49d40f29a009e0c352a0f66": {
      "model_module": "@jupyter-widgets/controls",
      "model_module_version": "2.0.0",
      "model_name": "HTMLModel",
      "state": {
       "layout": "IPY_MODEL_ba50f7405968413c8b0ef0fe0871bdd6",
       "style": "IPY_MODEL_dc0062950a544c34ae3e875df0b54fb5",
       "value": "<h5>Job ID</h5>"
      }
     },
     "42f7f3a2b4b64be4a3f62dd17260b210": {
      "model_module": "@jupyter-widgets/controls",
      "model_module_version": "2.0.0",
      "model_name": "HTMLStyleModel",
      "state": {
       "description_width": "",
       "font_size": null,
       "text_color": null
      }
     },
     "49960b9982de4695a621725a1db22fc8": {
      "model_module": "@jupyter-widgets/base",
      "model_module_version": "2.0.0",
      "model_name": "LayoutModel",
      "state": {
       "grid_template_areas": "\n                                       \". . . . right \"\n                                        ",
       "grid_template_columns": "20% 20% 20% 20% 20%",
       "width": "100%"
      }
     },
     "4d30555768ab4881aa8da972a6b7d632": {
      "model_module": "@jupyter-widgets/base",
      "model_module_version": "2.0.0",
      "model_name": "LayoutModel",
      "state": {
       "width": "145px"
      }
     },
     "5e0fa50f7fe2465bb506880ab8679cbb": {
      "model_module": "@jupyter-widgets/base",
      "model_module_version": "2.0.0",
      "model_name": "LayoutModel",
      "state": {
       "width": "95px"
      }
     },
     "67c176f6a2cc486dafa51977786212b1": {
      "model_module": "@jupyter-widgets/controls",
      "model_module_version": "2.0.0",
      "model_name": "HTMLModel",
      "state": {
       "layout": "IPY_MODEL_c70fb81f5b68445d89b4f2e8ad948d57",
       "style": "IPY_MODEL_42f7f3a2b4b64be4a3f62dd17260b210",
       "value": "<h5>Message</h5>"
      }
     },
     "797fa5d9978d41b989be03f965b3da2b": {
      "model_module": "@jupyter-widgets/controls",
      "model_module_version": "2.0.0",
      "model_name": "HTMLModel",
      "state": {
       "layout": "IPY_MODEL_4d30555768ab4881aa8da972a6b7d632",
       "style": "IPY_MODEL_9df12a9dcc334f0da2f4834138f63867",
       "value": "<h5>Backend</h5>"
      }
     },
     "7e9413607f824283a6b0fcb260eb4321": {
      "model_module": "@jupyter-widgets/controls",
      "model_module_version": "2.0.0",
      "model_name": "HBoxModel",
      "state": {
       "children": [
        "IPY_MODEL_3a548297f49d40f29a009e0c352a0f66",
        "IPY_MODEL_797fa5d9978d41b989be03f965b3da2b",
        "IPY_MODEL_a473963661294cb1b50fe613cb044ec2",
        "IPY_MODEL_b4e6047bbbed4017aab945760196fda4",
        "IPY_MODEL_67c176f6a2cc486dafa51977786212b1"
       ],
       "layout": "IPY_MODEL_08f5316b0128492586a5f10dec8c6425"
      }
     },
     "8645dbd8e7c046f6bbde1a6386e56599": {
      "model_module": "@jupyter-widgets/base",
      "model_module_version": "2.0.0",
      "model_name": "LayoutModel",
      "state": {
       "margin": "0px 0px 10px 0px"
      }
     },
     "9df12a9dcc334f0da2f4834138f63867": {
      "model_module": "@jupyter-widgets/controls",
      "model_module_version": "2.0.0",
      "model_name": "HTMLStyleModel",
      "state": {
       "description_width": "",
       "font_size": null,
       "text_color": null
      }
     },
     "a473963661294cb1b50fe613cb044ec2": {
      "model_module": "@jupyter-widgets/controls",
      "model_module_version": "2.0.0",
      "model_name": "HTMLModel",
      "state": {
       "layout": "IPY_MODEL_5e0fa50f7fe2465bb506880ab8679cbb",
       "style": "IPY_MODEL_046bc304891e4f60a6018016c4015dd6",
       "value": "<h5>Status</h5>"
      }
     },
     "b4e6047bbbed4017aab945760196fda4": {
      "model_module": "@jupyter-widgets/controls",
      "model_module_version": "2.0.0",
      "model_name": "HTMLModel",
      "state": {
       "layout": "IPY_MODEL_0efa30e264a0452cace90640d71fd616",
       "style": "IPY_MODEL_1da0c3faf7fd41798ef3f273012fd044",
       "value": "<h5>Queue</h5>"
      }
     },
     "ba50f7405968413c8b0ef0fe0871bdd6": {
      "model_module": "@jupyter-widgets/base",
      "model_module_version": "2.0.0",
      "model_name": "LayoutModel",
      "state": {
       "width": "190px"
      }
     },
     "bdb19a8231834c89896bb77518b23a9d": {
      "model_module": "@jupyter-widgets/controls",
      "model_module_version": "2.0.0",
      "model_name": "GridBoxModel",
      "state": {
       "children": [
        "IPY_MODEL_c2902b6b1d9148278820d2dce4189e33"
       ],
       "layout": "IPY_MODEL_49960b9982de4695a621725a1db22fc8"
      }
     },
     "c1edef58c8984309af9cb09ea4ae205b": {
      "model_module": "@jupyter-widgets/controls",
      "model_module_version": "2.0.0",
      "model_name": "ButtonStyleModel",
      "state": {
       "font_family": null,
       "font_size": null,
       "font_style": null,
       "font_variant": null,
       "font_weight": null,
       "text_color": null,
       "text_decoration": null
      }
     },
     "c2902b6b1d9148278820d2dce4189e33": {
      "model_module": "@jupyter-widgets/controls",
      "model_module_version": "2.0.0",
      "model_name": "ButtonModel",
      "state": {
       "button_style": "primary",
       "description": "Clear",
       "layout": "IPY_MODEL_2d613c39987b4ab1ad041a20dc3a2c60",
       "style": "IPY_MODEL_c1edef58c8984309af9cb09ea4ae205b",
       "tooltip": null
      }
     },
     "c70fb81f5b68445d89b4f2e8ad948d57": {
      "model_module": "@jupyter-widgets/base",
      "model_module_version": "2.0.0",
      "model_name": "LayoutModel",
      "state": {}
     },
     "cf3a4b85a05c485a803191ac4309196b": {
      "model_module": "@jupyter-widgets/controls",
      "model_module_version": "2.0.0",
      "model_name": "HTMLModel",
      "state": {
       "layout": "IPY_MODEL_8645dbd8e7c046f6bbde1a6386e56599",
       "style": "IPY_MODEL_e704d1c7ce7840e8a2fb4659ea5a8376",
       "value": "<p style='font-family: IBM Plex Sans, Arial, Helvetica, sans-serif; font-size: 20px; font-weight: medium;'>Circuit Properties</p>"
      }
     },
     "dc0062950a544c34ae3e875df0b54fb5": {
      "model_module": "@jupyter-widgets/controls",
      "model_module_version": "2.0.0",
      "model_name": "HTMLStyleModel",
      "state": {
       "description_width": "",
       "font_size": null,
       "text_color": null
      }
     },
     "e704d1c7ce7840e8a2fb4659ea5a8376": {
      "model_module": "@jupyter-widgets/controls",
      "model_module_version": "2.0.0",
      "model_name": "HTMLStyleModel",
      "state": {
       "description_width": "",
       "font_size": null,
       "text_color": null
      }
     }
    },
    "version_major": 2,
    "version_minor": 0
   }
  }
 },
 "nbformat": 4,
 "nbformat_minor": 5
}
